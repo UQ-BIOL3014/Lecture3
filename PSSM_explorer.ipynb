{
 "cells": [
  {
   "cell_type": "markdown",
   "metadata": {},
   "source": [
    "# Investigating sequence motif algorithms #\n",
    "\n",
    "## PSSM ##\n",
    "\n",
    "### Part 1. Import in required modules and read in clustal formatted alignments ###"
   ]
  },
  {
   "cell_type": "code",
   "execution_count": 19,
   "metadata": {
    "collapsed": false
   },
   "outputs": [
    {
     "name": "stdout",
     "output_type": "stream",
     "text": [
      "SEQUENCE08: CTCCTTACATGGGC\n",
      "SEQUENCE05: TGCCAAAAGTGGTC\n",
      "SEQUENCE04: TGACTATAAAAGGA\n",
      "SEQUENCE07: CAACTATCTTGGGC\n",
      "SEQUENCE06: CAACTATCTTGGGC\n",
      "SEQUENCE01: GACCAAATAAGGCA\n",
      "SEQUENCE03: TGACTATAAAAGGA\n",
      "SEQUENCE02: GACCAAATAAGGCA\n"
     ]
    }
   ],
   "source": [
    "from uqbinfpy import sequence\n",
    "from uqbinfpy import seqsymbol\n",
    "from uqbinfpy import prob\n",
    "from math import log\n",
    "\n",
    "# Using DNA alphabet\n",
    "dna = seqsymbol.DNA_Alphabet\n",
    "\n",
    "# Read in a alignment\n",
    "aln = sequence.readClustalFile('example.aln', dna)\n",
    "for seq in aln.seqs:\n",
    "    print seq"
   ]
  },
  {
   "cell_type": "markdown",
   "metadata": {},
   "source": [
    "### Part 2. Calculate the probability for each position/row in the matrix ###"
   ]
  },
  {
   "cell_type": "code",
   "execution_count": 20,
   "metadata": {
    "collapsed": false
   },
   "outputs": [
    {
     "name": "stdout",
     "output_type": "stream",
     "text": [
      "The 'probaility matrix'\n",
      " \t\t    1\t    2\t    3\t    4\t    5\t    6\t    7\t    8\t    9\t   10\t   11\t   12\t   13\t   14\n",
      "A\t\t0.000\t0.500\t0.500\t0.000\t0.375\t0.875\t0.500\t0.375\t0.625\t0.500\t0.250\t0.000\t0.000\t0.500\n",
      "C\t\t0.375\t0.000\t0.500\t1.000\t0.000\t0.000\t0.000\t0.375\t0.000\t0.000\t0.000\t0.000\t0.250\t0.500\n",
      "G\t\t0.250\t0.375\t0.000\t0.000\t0.000\t0.000\t0.000\t0.000\t0.125\t0.000\t0.750\t1.000\t0.625\t0.000\n",
      "T\t\t0.375\t0.125\t0.000\t0.000\t0.625\t0.125\t0.500\t0.250\t0.250\t0.500\t0.000\t0.000\t0.125\t0.000\n",
      " \t\t    1\t    2\t    3\t    4\t    5\t    6\t    7\t    8\t    9\t   10\t   11\t   12\t   13\t   14\n",
      "A\t\t    0\t    4\t    4\t    0\t    3\t    7\t    4\t    3\t    5\t    4\t    2\t    0\t    0\t    4\n",
      "C\t\t    3\t    0\t    4\t    8\t    0\t    0\t    0\t    3\t    0\t    0\t    0\t    0\t    2\t    4\n",
      "G\t\t    2\t    3\t    0\t    0\t    0\t    0\t    0\t    0\t    1\t    0\t    6\t    8\t    5\t    0\n",
      "T\t\t    3\t    1\t    0\t    0\t    5\t    1\t    4\t    2\t    2\t    4\t    0\t    0\t    1\t    0\n"
     ]
    }
   ],
   "source": [
    "P = prob.IndepJoint([dna for _ in range(aln.alignlen)])\n",
    "for seq in aln.seqs:\n",
    "    P.observe(seq)\n",
    "\n",
    "# See the results\n",
    "print \"The 'probaility matrix'\"\n",
    "P.displayMatrix()\n",
    "P.displayMatrix(count=True)"
   ]
  },
  {
   "cell_type": "markdown",
   "metadata": {},
   "source": [
    "### Part 3. Calculate the probability for each position/row in the matrix ###\n",
    "Notice the '1.0' - setting pseudoconts"
   ]
  },
  {
   "cell_type": "code",
   "execution_count": 21,
   "metadata": {
    "collapsed": false
   },
   "outputs": [
    {
     "name": "stdout",
     "output_type": "stream",
     "text": [
      "The 'corrected probability matrix' (with pseudocounts)\n",
      " \t\t    1\t    2\t    3\t    4\t    5\t    6\t    7\t    8\t    9\t   10\t   11\t   12\t   13\t   14\n",
      "A\t\t0.083\t0.417\t0.417\t0.083\t0.333\t0.667\t0.417\t0.333\t0.500\t0.417\t0.250\t0.083\t0.083\t0.417\n",
      "C\t\t0.333\t0.083\t0.417\t0.750\t0.083\t0.083\t0.083\t0.333\t0.083\t0.083\t0.083\t0.083\t0.250\t0.417\n",
      "G\t\t0.250\t0.333\t0.083\t0.083\t0.083\t0.083\t0.083\t0.083\t0.167\t0.083\t0.583\t0.750\t0.500\t0.083\n",
      "T\t\t0.333\t0.167\t0.083\t0.083\t0.500\t0.167\t0.417\t0.250\t0.250\t0.417\t0.083\t0.083\t0.167\t0.083\n",
      " \t\t    1\t    2\t    3\t    4\t    5\t    6\t    7\t    8\t    9\t   10\t   11\t   12\t   13\t   14\n",
      "A\t\t    1\t    5\t    5\t    1\t    4\t    8\t    5\t    4\t    6\t    5\t    3\t    1\t    1\t    5\n",
      "C\t\t    4\t    1\t    5\t    9\t    1\t    1\t    1\t    4\t    1\t    1\t    1\t    1\t    3\t    5\n",
      "G\t\t    3\t    4\t    1\t    1\t    1\t    1\t    1\t    1\t    2\t    1\t    7\t    9\t    6\t    1\n",
      "T\t\t    4\t    2\t    1\t    1\t    6\t    2\t    5\t    3\t    3\t    5\t    1\t    1\t    2\t    1\n"
     ]
    }
   ],
   "source": [
    "P = prob.IndepJoint([dna for _ in range(aln.alignlen)], 1.0)\n",
    "for seq in aln.seqs:\n",
    "    P.observe(seq)\n",
    "\n",
    "# See the results\"\"\n",
    "print \"The 'corrected probability matrix' (with pseudocounts)\"\n",
    "P.displayMatrix()\n",
    "P.displayMatrix(count=True)"
   ]
  },
  {
   "cell_type": "markdown",
   "metadata": {},
   "source": [
    "### Part 4.1. The PSSM with equiprobable assumption ###"
   ]
  },
  {
   "cell_type": "code",
   "execution_count": 22,
   "metadata": {
    "collapsed": false
   },
   "outputs": [
    {
     "name": "stdout",
     "output_type": "stream",
     "text": [
      "The PSSM with equiprobable assumption\n",
      "P(d) = 0.25\n",
      "A \t-1.585\t 0.737\t 0.737\t-1.585\t 0.415\t 1.415\t 0.737\t 0.415\t 1.000\t 0.737\t 0.000\t-1.585\t-1.585\t 0.737\n",
      "C \t 0.415\t-1.585\t 0.737\t 1.585\t-1.585\t-1.585\t-1.585\t 0.415\t-1.585\t-1.585\t-1.585\t-1.585\t 0.000\t 0.737\n",
      "G \t 0.000\t 0.415\t-1.585\t-1.585\t-1.585\t-1.585\t-1.585\t-1.585\t-0.585\t-1.585\t 1.222\t 1.585\t 1.000\t-1.585\n",
      "T \t 0.415\t-0.585\t-1.585\t-1.585\t 1.000\t-0.585\t 0.737\t 0.000\t 0.000\t 0.737\t-1.585\t-1.585\t-0.585\t-1.585\n"
     ]
    }
   ],
   "source": [
    "print \"The PSSM with equiprobable assumption\"\n",
    "equiprobable = 0.25\n",
    "print \"P(d) = \"+str(equiprobable)\n",
    "matrix = P.getMatrix()\n",
    "# Manual manipultation. Must be better way\n",
    "keys = ['A', 'C', 'G', 'T']\n",
    "for k in keys:\n",
    "    out = k+\" \"\n",
    "    cur = (matrix[k])\n",
    "    for elem in cur:\n",
    "        scaled = str(round(log((elem/0.25),2),3))\n",
    "        if len(scaled) == 3:\n",
    "            scaled = scaled+\"00\"\n",
    "        if len(scaled) == 4:\n",
    "            scaled = scaled+\"0\"\n",
    "        if len(scaled) == 5:\n",
    "            scaled = \" \"+scaled\n",
    "        out = out+\"\\t\"+scaled\n",
    "    print out"
   ]
  },
  {
   "cell_type": "markdown",
   "metadata": {},
   "source": [
    "### Part 4.2. The PSSM background distribution of all sequences information ###"
   ]
  },
  {
   "cell_type": "code",
   "execution_count": 23,
   "metadata": {
    "collapsed": false
   },
   "outputs": [
    {
     "name": "stdout",
     "output_type": "stream",
     "text": [
      "The PSSM background distribution of all sequences information\n",
      "P(d) = {'A': 0.32142857142857145, 'C': 0.2261904761904762, 'T': 0.22023809523809523, 'G': 0.23214285714285715}\n",
      "A \t-1.948\t 0.374\t 0.374\t-1.948\t 0.052\t 1.052\t 0.374\t 0.052\t 0.637\t 0.374\t-0.363\t-1.948\t-1.948\t 0.374\n",
      "C \t 0.559\t-1.441\t 0.881\t 1.729\t-1.441\t-1.441\t-1.441\t 0.559\t-1.441\t-1.441\t-1.441\t-1.441\t 0.144\t 0.881\n",
      "G \t 0.107\t 0.522\t-1.478\t-1.478\t-1.478\t-1.478\t-1.478\t-1.478\t-0.478\t-1.478\t 1.329\t 1.692\t 1.107\t-1.478\n",
      "T \t 0.598\t-0.402\t-1.402\t-1.402\t 1.183\t-0.402\t 0.920\t 0.183\t 0.183\t 0.920\t-1.402\t-1.402\t-0.402\t-1.402\n"
     ]
    }
   ],
   "source": [
    "print \"The PSSM background distribution of all sequences information\"\n",
    "\n",
    "# Determine uderlying counts/frequencies\n",
    "a_cnts = P.getRow('A',count=True)\n",
    "c_cnts = P.getRow('C',count=True)\n",
    "g_cnts = P.getRow('G',count=True)\n",
    "t_cnts = P.getRow('T',count=True)\n",
    "total = sum(a_cnts)+sum(c_cnts)+sum(g_cnts)+sum(t_cnts)\n",
    "a_pd = sum(a_cnts)/total\n",
    "c_pd = sum(c_cnts)/total\n",
    "g_pd = sum(g_cnts)/total\n",
    "t_pd = sum(t_cnts)/total\n",
    "\n",
    "underlying_pd = {'A': a_pd, 'C': c_pd, 'G': g_pd, 'T': t_pd}\n",
    "print \"P(d) = \"+str(underlying_pd)\n",
    "\n",
    "matrix = P.getMatrix()\n",
    "keys = ['A', 'C', 'G', 'T']\n",
    "for k in keys:\n",
    "    out = k+\" \"\n",
    "    cur = (matrix[k])\n",
    "    for elem in cur:\n",
    "        scaled = str(round(log((elem/underlying_pd[k]),2),3))\n",
    "        if len(scaled) == 3:\n",
    "            scaled = scaled+\"00\"\n",
    "        if len(scaled) == 4:\n",
    "            scaled = scaled+\"0\"\n",
    "        if len(scaled) == 5:\n",
    "            scaled = \" \"+scaled\n",
    "        out = out+\"\\t\"+scaled\n",
    "    print out"
   ]
  }
 ],
 "metadata": {
  "kernelspec": {
   "display_name": "Python 2",
   "language": "python",
   "name": "python2"
  },
  "language_info": {
   "codemirror_mode": {
    "name": "ipython",
    "version": 2
   },
   "file_extension": ".py",
   "mimetype": "text/x-python",
   "name": "python",
   "nbconvert_exporter": "python",
   "pygments_lexer": "ipython2",
   "version": "2.7.8"
  }
 },
 "nbformat": 4,
 "nbformat_minor": 0
}
