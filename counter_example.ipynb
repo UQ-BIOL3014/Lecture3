{
 "cells": [
  {
   "cell_type": "markdown",
   "metadata": {},
   "source": [
    "# A example of counters  #"
   ]
  },
  {
   "cell_type": "code",
   "execution_count": 1,
   "metadata": {
    "collapsed": false
   },
   "outputs": [
    {
     "name": "stdout",
     "output_type": "stream",
     "text": [
      "A's: 4\n",
      "T's: 4\n",
      "C's: 4\n",
      "G's: 1\n"
     ]
    }
   ],
   "source": [
    "dna_list = ['A', 'A', 'T', 'T', 'C', 'C', 'G', 'A', 'A', 'T', 'T', 'C', 'C']\n",
    "count_a, count_t, count_c, count_g = 0, 0, 0, 0\n",
    "\n",
    "for base in dna_list:\n",
    "    if base == 'A':\n",
    "        count_a+=1\n",
    "    elif base == 'T':\n",
    "        count_t+=1\n",
    "    elif base == 'C':\n",
    "        count_c+=1\n",
    "    elif base == 'G':\n",
    "        count_g+=1\n",
    "    else:\n",
    "        print \"Non DNA base\"\n",
    "\n",
    "total = count_a + count_t + count_c + count_g    \n",
    "        \n",
    "print \"A's: \"+ str(count_a)\n",
    "print \"T's: \"+ str(count_t)\n",
    "print \"C's: \"+ str(count_c)\n",
    "print \"G's: \"+ str(count_g)"
   ]
  },
  {
   "cell_type": "code",
   "execution_count": null,
   "metadata": {
    "collapsed": true
   },
   "outputs": [],
   "source": []
  },
  {
   "cell_type": "code",
   "execution_count": null,
   "metadata": {
    "collapsed": true
   },
   "outputs": [],
   "source": []
  }
 ],
 "metadata": {
  "kernelspec": {
   "display_name": "Python 2",
   "language": "python",
   "name": "python2"
  },
  "language_info": {
   "codemirror_mode": {
    "name": "ipython",
    "version": 2
   },
   "file_extension": ".py",
   "mimetype": "text/x-python",
   "name": "python",
   "nbconvert_exporter": "python",
   "pygments_lexer": "ipython2",
   "version": "2.7.8"
  }
 },
 "nbformat": 4,
 "nbformat_minor": 0
}
